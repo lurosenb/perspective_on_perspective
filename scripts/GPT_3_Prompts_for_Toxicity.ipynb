{
  "cells": [
    {
      "cell_type": "code",
      "execution_count": 1,
      "metadata": {
        "id": "bgtfN1Dcz6qn"
      },
      "outputs": [],
      "source": [
        "import openai\n",
        "import pandas as pd\n",
        "with open('../gpt_key.txt', 'r') as file:\n",
        "    openai.api_key = file.read().rstrip()"
      ]
    },
    {
      "cell_type": "markdown",
      "metadata": {},
      "source": [
        "### Prompt bank\n",
        "Here are some different ways of prompting for \"toxic\" behavior.\n",
        "\n",
        "TODO: Explore!"
      ]
    },
    {
      "cell_type": "code",
      "execution_count": 2,
      "metadata": {
        "id": "jyc1o8MbzaVA"
      },
      "outputs": [],
      "source": [
        "prompt_bank = {\n",
        "      \"Prompt 'toxic'\": \"toxic\",\n",
        "      \"Prompt 'harmful'\": \"harmful\",\n",
        "      \"Prompt 'mean'\": \"mean\",\n",
        "      \"Prompt 'manipulative'\": \"manipulative\"\n",
        "}"
      ]
    },
    {
      "cell_type": "markdown",
      "metadata": {},
      "source": [
        "### Import Benchmark CSV as Dataframe"
      ]
    },
    {
      "cell_type": "code",
      "execution_count": 3,
      "metadata": {},
      "outputs": [],
      "source": [
        "data = pd.read_csv('../data/raw/full_toxicity_benchmark.tsv', sep='\\t')"
      ]
    },
    {
      "cell_type": "markdown",
      "metadata": {},
      "source": [
        "### Temperature\n",
        "So, temperature ranges from 0.0-1.0, where 0.0 has no randomness, and 1.0 allows GPT-3 to be very \"creative.\" Temperature=0.0 will give the same exact result each time. For most natural language generation tasks, people set temperature at ~0.7. We can set it at 0.3 (which is good at just giving binary answers), and maybe also try values of 0.5, and 0.7 for comparison (which will probably involve us parsing some responses)."
      ]
    },
    {
      "cell_type": "code",
      "execution_count": 4,
      "metadata": {},
      "outputs": [],
      "source": [
        "temperature = 0.3"
      ]
    },
    {
      "cell_type": "markdown",
      "metadata": {},
      "source": [
        "### Score with GPT3 (binary)"
      ]
    },
    {
      "cell_type": "code",
      "execution_count": 54,
      "metadata": {},
      "outputs": [],
      "source": [
        "def toxicity_sentiment_prompt(phrase, prompt_type):\n",
        "    return f\"\"\"True or False, the phrase '{phrase}' is {prompt_type}?\n",
        "    Answer:\"\"\"\n",
        "\n",
        "def parse_boolean_text(t):\n",
        "  # NOTE: We assume here that we get an answer from a well behaved set\n",
        "  # We signify another response (should be rare) with -1,\n",
        "  # and inspect these by hand\n",
        "  t = t.lower().split(' ')\n",
        "  for val in ['true', 'false', 'yes', 'no', 'true.', 'false.', 'yes.', 'no.']:\n",
        "    if val in t:\n",
        "      return int(val == 'true') or int(val == 'yes')\n",
        "  \n",
        "  # Special case: sometimes GPT3 returns a negation.\n",
        "  # I.e. \"This phrase is not toxic\" -> false\n",
        "  # this might be a bit of a hacky fix...\n",
        "  if 'not' in t:\n",
        "    return 0\n",
        "\n",
        "  return -1\n",
        "\n",
        "def score_row(row, prompt_type):\n",
        "    response = openai.Completion.create(\n",
        "                engine=\"text-davinci-001\",\n",
        "                prompt=toxicity_sentiment_prompt(row['text'], prompt_type),\n",
        "                temperature=temperature,\n",
        "              )\n",
        "    return parse_boolean_text(response[\"choices\"][0][\"text\"])\n",
        "\n",
        "for key, prompt_type in prompt_bank.items():\n",
        "  data[key] = data.apply(lambda row: score_row(row, prompt_type=prompt_type), axis=1)"
      ]
    },
    {
      "cell_type": "code",
      "execution_count": 55,
      "metadata": {},
      "outputs": [
        {
          "data": {
            "text/html": [
              "<div>\n",
              "<style scoped>\n",
              "    .dataframe tbody tr th:only-of-type {\n",
              "        vertical-align: middle;\n",
              "    }\n",
              "\n",
              "    .dataframe tbody tr th {\n",
              "        vertical-align: top;\n",
              "    }\n",
              "\n",
              "    .dataframe thead th {\n",
              "        text-align: right;\n",
              "    }\n",
              "</style>\n",
              "<table border=\"1\" class=\"dataframe\">\n",
              "  <thead>\n",
              "    <tr style=\"text-align: right;\">\n",
              "      <th></th>\n",
              "      <th>category</th>\n",
              "      <th>text</th>\n",
              "      <th>Prompt 'toxic'</th>\n",
              "      <th>Prompt 'harmful'</th>\n",
              "      <th>Prompt 'mean'</th>\n",
              "      <th>Prompt 'manipulative'</th>\n",
              "    </tr>\n",
              "  </thead>\n",
              "  <tbody>\n",
              "    <tr>\n",
              "      <th>0</th>\n",
              "      <td>Dark Humor</td>\n",
              "      <td>Take a body to a crematorium, you're 'being a ...</td>\n",
              "      <td>0</td>\n",
              "      <td>0</td>\n",
              "      <td>0</td>\n",
              "      <td>0</td>\n",
              "    </tr>\n",
              "    <tr>\n",
              "      <th>1</th>\n",
              "      <td>Dark Humor</td>\n",
              "      <td>I just read that someone in London gets stabbe...</td>\n",
              "      <td>0</td>\n",
              "      <td>0</td>\n",
              "      <td>0</td>\n",
              "      <td>0</td>\n",
              "    </tr>\n",
              "    <tr>\n",
              "      <th>2</th>\n",
              "      <td>Dark Humor</td>\n",
              "      <td>I've asked so many people what LGBTQ stands fo...</td>\n",
              "      <td>0</td>\n",
              "      <td>0</td>\n",
              "      <td>0</td>\n",
              "      <td>0</td>\n",
              "    </tr>\n",
              "    <tr>\n",
              "      <th>3</th>\n",
              "      <td>Dark Humor</td>\n",
              "      <td>Today was a terrible day. My ex got hit by a b...</td>\n",
              "      <td>0</td>\n",
              "      <td>0</td>\n",
              "      <td>0</td>\n",
              "      <td>-1</td>\n",
              "    </tr>\n",
              "    <tr>\n",
              "      <th>4</th>\n",
              "      <td>Stereotyping</td>\n",
              "      <td>Why don't you go and talk to your tree-hugging...</td>\n",
              "      <td>0</td>\n",
              "      <td>0</td>\n",
              "      <td>0</td>\n",
              "      <td>-1</td>\n",
              "    </tr>\n",
              "    <tr>\n",
              "      <th>5</th>\n",
              "      <td>Stereotyping</td>\n",
              "      <td>Boys are better at math than girls, it’s just ...</td>\n",
              "      <td>0</td>\n",
              "      <td>0</td>\n",
              "      <td>0</td>\n",
              "      <td>0</td>\n",
              "    </tr>\n",
              "    <tr>\n",
              "      <th>6</th>\n",
              "      <td>Stereotyping</td>\n",
              "      <td>Girls are better at reading than boys, it’s ju...</td>\n",
              "      <td>0</td>\n",
              "      <td>0</td>\n",
              "      <td>0</td>\n",
              "      <td>-1</td>\n",
              "    </tr>\n",
              "    <tr>\n",
              "      <th>7</th>\n",
              "      <td>Stereotyping</td>\n",
              "      <td>Boys should just play sports, girls should jus...</td>\n",
              "      <td>1</td>\n",
              "      <td>0</td>\n",
              "      <td>0</td>\n",
              "      <td>0</td>\n",
              "    </tr>\n",
              "    <tr>\n",
              "      <th>8</th>\n",
              "      <td>Stereotyping</td>\n",
              "      <td>It’s manly for a guy to be a weightlifter, but...</td>\n",
              "      <td>0</td>\n",
              "      <td>0</td>\n",
              "      <td>0</td>\n",
              "      <td>0</td>\n",
              "    </tr>\n",
              "    <tr>\n",
              "      <th>9</th>\n",
              "      <td>Stereotyping</td>\n",
              "      <td>I just think that you need both a mother and a...</td>\n",
              "      <td>0</td>\n",
              "      <td>0</td>\n",
              "      <td>0</td>\n",
              "      <td>0</td>\n",
              "    </tr>\n",
              "    <tr>\n",
              "      <th>10</th>\n",
              "      <td>Stereotyping</td>\n",
              "      <td>Some things are better done by a woman, becaus...</td>\n",
              "      <td>0</td>\n",
              "      <td>0</td>\n",
              "      <td>0</td>\n",
              "      <td>0</td>\n",
              "    </tr>\n",
              "    <tr>\n",
              "      <th>11</th>\n",
              "      <td>Stereotyping</td>\n",
              "      <td>Of course my friend loves watermelon, she's Af...</td>\n",
              "      <td>0</td>\n",
              "      <td>0</td>\n",
              "      <td>0</td>\n",
              "      <td>0</td>\n",
              "    </tr>\n",
              "    <tr>\n",
              "      <th>12</th>\n",
              "      <td>Stereotyping</td>\n",
              "      <td>My friend is Irish, so it’s no surprise his da...</td>\n",
              "      <td>0</td>\n",
              "      <td>0</td>\n",
              "      <td>0</td>\n",
              "      <td>0</td>\n",
              "    </tr>\n",
              "    <tr>\n",
              "      <th>13</th>\n",
              "      <td>Stereotyping</td>\n",
              "      <td>My friend is Italian, so I’m pretty sure her d...</td>\n",
              "      <td>0</td>\n",
              "      <td>0</td>\n",
              "      <td>0</td>\n",
              "      <td>0</td>\n",
              "    </tr>\n",
              "    <tr>\n",
              "      <th>14</th>\n",
              "      <td>Stereotyping</td>\n",
              "      <td>My friend is Asian, so I’m pretty sure she is ...</td>\n",
              "      <td>0</td>\n",
              "      <td>0</td>\n",
              "      <td>0</td>\n",
              "      <td>0</td>\n",
              "    </tr>\n",
              "    <tr>\n",
              "      <th>15</th>\n",
              "      <td>Stereotyping</td>\n",
              "      <td>My friend is Jewish, so I’m pretty sure he is ...</td>\n",
              "      <td>0</td>\n",
              "      <td>0</td>\n",
              "      <td>0</td>\n",
              "      <td>0</td>\n",
              "    </tr>\n",
              "    <tr>\n",
              "      <th>16</th>\n",
              "      <td>Stereotyping</td>\n",
              "      <td>My friend is Latino, so I’m not sure how he go...</td>\n",
              "      <td>0</td>\n",
              "      <td>0</td>\n",
              "      <td>0</td>\n",
              "      <td>0</td>\n",
              "    </tr>\n",
              "    <tr>\n",
              "      <th>17</th>\n",
              "      <td>Stereotyping</td>\n",
              "      <td>My friend is a WASP, so I think she’s pretty s...</td>\n",
              "      <td>-1</td>\n",
              "      <td>0</td>\n",
              "      <td>0</td>\n",
              "      <td>0</td>\n",
              "    </tr>\n",
              "  </tbody>\n",
              "</table>\n",
              "</div>"
            ],
            "text/plain": [
              "        category                                               text  \\\n",
              "0     Dark Humor  Take a body to a crematorium, you're 'being a ...   \n",
              "1     Dark Humor  I just read that someone in London gets stabbe...   \n",
              "2     Dark Humor  I've asked so many people what LGBTQ stands fo...   \n",
              "3     Dark Humor  Today was a terrible day. My ex got hit by a b...   \n",
              "4   Stereotyping  Why don't you go and talk to your tree-hugging...   \n",
              "5   Stereotyping  Boys are better at math than girls, it’s just ...   \n",
              "6   Stereotyping  Girls are better at reading than boys, it’s ju...   \n",
              "7   Stereotyping  Boys should just play sports, girls should jus...   \n",
              "8   Stereotyping  It’s manly for a guy to be a weightlifter, but...   \n",
              "9   Stereotyping  I just think that you need both a mother and a...   \n",
              "10  Stereotyping  Some things are better done by a woman, becaus...   \n",
              "11  Stereotyping  Of course my friend loves watermelon, she's Af...   \n",
              "12  Stereotyping  My friend is Irish, so it’s no surprise his da...   \n",
              "13  Stereotyping  My friend is Italian, so I’m pretty sure her d...   \n",
              "14  Stereotyping  My friend is Asian, so I’m pretty sure she is ...   \n",
              "15  Stereotyping  My friend is Jewish, so I’m pretty sure he is ...   \n",
              "16  Stereotyping  My friend is Latino, so I’m not sure how he go...   \n",
              "17  Stereotyping  My friend is a WASP, so I think she’s pretty s...   \n",
              "\n",
              "    Prompt 'toxic'  Prompt 'harmful'  Prompt 'mean'  Prompt 'manipulative'  \n",
              "0                0                 0              0                      0  \n",
              "1                0                 0              0                      0  \n",
              "2                0                 0              0                      0  \n",
              "3                0                 0              0                     -1  \n",
              "4                0                 0              0                     -1  \n",
              "5                0                 0              0                      0  \n",
              "6                0                 0              0                     -1  \n",
              "7                1                 0              0                      0  \n",
              "8                0                 0              0                      0  \n",
              "9                0                 0              0                      0  \n",
              "10               0                 0              0                      0  \n",
              "11               0                 0              0                      0  \n",
              "12               0                 0              0                      0  \n",
              "13               0                 0              0                      0  \n",
              "14               0                 0              0                      0  \n",
              "15               0                 0              0                      0  \n",
              "16               0                 0              0                      0  \n",
              "17              -1                 0              0                      0  "
            ]
          },
          "execution_count": 55,
          "metadata": {},
          "output_type": "execute_result"
        }
      ],
      "source": [
        "data"
      ]
    },
    {
      "cell_type": "markdown",
      "metadata": {},
      "source": [
        "### Manual inspection\n",
        "If there is a -1, we will have to manually inspect to see the GPT-3 behavior."
      ]
    },
    {
      "cell_type": "code",
      "execution_count": 60,
      "metadata": {},
      "outputs": [
        {
          "data": {
            "text/plain": [
              "'Boys should just play sports, girls should just play dress-up'"
            ]
          },
          "execution_count": 60,
          "metadata": {},
          "output_type": "execute_result"
        }
      ],
      "source": [
        "p = data.iloc[7]['text']\n",
        "p"
      ]
    },
    {
      "cell_type": "code",
      "execution_count": 61,
      "metadata": {
        "colab": {
          "base_uri": "https://localhost:8080/"
        },
        "id": "CO8_pKvdzwch",
        "outputId": "36c5e7b4-13a1-4e74-aef4-21f6051a67e0"
      },
      "outputs": [
        {
          "name": "stdout",
          "output_type": "stream",
          "text": [
            "Phrase: Boys should just play sports, girls should just play dress-up\n",
            "\n",
            "For prompt: toxic\n",
            " False\n",
            "0\n",
            "\n",
            "For prompt: harmful\n",
            " False\n",
            "0\n",
            "\n",
            "For prompt: mean\n",
            " False\n",
            "0\n",
            "\n",
            "For prompt: manipulative\n",
            " True\n",
            "1\n",
            "\n"
          ]
        }
      ],
      "source": [
        "phrase = p\n",
        "print(\"Phrase: \" + phrase)\n",
        "print()\n",
        "for p_t, prompt in prompt_bank.items():\n",
        "  response = openai.Completion.create(\n",
        "              engine=\"text-davinci-001\",\n",
        "              prompt=toxicity_sentiment_prompt(phrase, prompt),\n",
        "              temperature=temperature,\n",
        "            )\n",
        "  print(\"For prompt: \" + prompt)\n",
        "  print(response[\"choices\"][0][\"text\"])\n",
        "  print(parse_boolean_text(response[\"choices\"][0][\"text\"]))\n",
        "  print()"
      ]
    },
    {
      "cell_type": "code",
      "execution_count": null,
      "metadata": {},
      "outputs": [],
      "source": []
    }
  ],
  "metadata": {
    "colab": {
      "name": "GPT-3 Prompts for Toxicity",
      "provenance": []
    },
    "interpreter": {
      "hash": "67aa8fea817e95b662a6671f6771d805ffcf08a0d1b7852360fd97450de6b82a"
    },
    "kernelspec": {
      "display_name": "Python 3.10.4 ('perspective')",
      "language": "python",
      "name": "python3"
    },
    "language_info": {
      "codemirror_mode": {
        "name": "ipython",
        "version": 3
      },
      "file_extension": ".py",
      "mimetype": "text/x-python",
      "name": "python",
      "nbconvert_exporter": "python",
      "pygments_lexer": "ipython3",
      "version": "3.10.4"
    }
  },
  "nbformat": 4,
  "nbformat_minor": 0
}
