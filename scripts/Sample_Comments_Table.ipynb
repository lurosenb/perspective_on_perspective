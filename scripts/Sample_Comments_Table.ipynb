{
 "cells": [
  {
   "cell_type": "code",
   "execution_count": 1,
   "metadata": {},
   "outputs": [],
   "source": [
    "import pandas as pd"
   ]
  },
  {
   "cell_type": "code",
   "execution_count": 11,
   "metadata": {},
   "outputs": [],
   "source": [
    "benchmark = pd.read_csv('../data/raw/full_toxicity_benchmark.tsv', sep='\\t')"
   ]
  },
  {
   "cell_type": "code",
   "execution_count": 15,
   "metadata": {},
   "outputs": [],
   "source": [
    "benchmark_sample = benchmark.groupby(\n",
    "    'category').sample(1, random_state=12)\n",
    "benchmark_sample.to_csv('../data/processed/table2_sentences.csv')"
   ]
  },
  {
   "cell_type": "code",
   "execution_count": null,
   "metadata": {},
   "outputs": [],
   "source": [
    "benchmark.groupby('')"
   ]
  }
 ],
 "metadata": {
  "interpreter": {
   "hash": "67aa8fea817e95b662a6671f6771d805ffcf08a0d1b7852360fd97450de6b82a"
  },
  "kernelspec": {
   "display_name": "Python 3.10.4 ('perspective')",
   "language": "python",
   "name": "python3"
  },
  "language_info": {
   "codemirror_mode": {
    "name": "ipython",
    "version": 3
   },
   "file_extension": ".py",
   "mimetype": "text/x-python",
   "name": "python",
   "nbconvert_exporter": "python",
   "pygments_lexer": "ipython3",
   "version": "3.10.4"
  },
  "orig_nbformat": 4
 },
 "nbformat": 4,
 "nbformat_minor": 2
}
